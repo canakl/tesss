{
 "cells": [
  {
   "cell_type": "code",
   "execution_count": 3,
   "metadata": {},
   "outputs": [
    {
     "name": "stdout",
     "output_type": "stream",
     "text": [
      "Arcana Singh\n"
     ]
    }
   ],
   "source": [
    "def namaOrang(first, last):\n",
    "    print(first = '' + last)\n",
    "print('Arcana', 'Singh')"
   ]
  },
  {
   "cell_type": "code",
   "execution_count": 6,
   "metadata": {},
   "outputs": [
    {
     "name": "stdout",
     "output_type": "stream",
     "text": [
      "Arcana Singh\n"
     ]
    }
   ],
   "source": [
    "def namaOrang(first, last):\n",
    "    return first + '' + last\n",
    "print('Arcana', 'Singh')"
   ]
  },
  {
   "cell_type": "code",
   "execution_count": 7,
   "metadata": {},
   "outputs": [
    {
     "name": "stdout",
     "output_type": "stream",
     "text": [
      "local global\n"
     ]
    }
   ],
   "source": [
    "glob = 'global'\n",
    "def functionTest():\n",
    "    loc = 'local'\n",
    "    print(loc,glob)\n",
    "functionTest()"
   ]
  },
  {
   "cell_type": "code",
   "execution_count": 9,
   "metadata": {},
   "outputs": [
    {
     "ename": "NameError",
     "evalue": "name 'local' is not defined",
     "output_type": "error",
     "traceback": [
      "\u001b[1;31m---------------------------------------------------------------------------\u001b[0m",
      "\u001b[1;31mNameError\u001b[0m                                 Traceback (most recent call last)",
      "Cell \u001b[1;32mIn[9], line 10\u001b[0m\n\u001b[0;32m      8\u001b[0m     \u001b[39mprint\u001b[39m(local, glob)\n\u001b[0;32m      9\u001b[0m functionTest()\n\u001b[1;32m---> 10\u001b[0m functionTestA()\n",
      "Cell \u001b[1;32mIn[9], line 7\u001b[0m, in \u001b[0;36mfunctionTestA\u001b[1;34m()\u001b[0m\n\u001b[0;32m      6\u001b[0m \u001b[39mdef\u001b[39;00m \u001b[39mfunctionTestA\u001b[39m():\n\u001b[1;32m----> 7\u001b[0m     local \u001b[39m-\u001b[39m functionTest()\n\u001b[0;32m      8\u001b[0m     \u001b[39mprint\u001b[39m(local, glob)\n",
      "\u001b[1;31mNameError\u001b[0m: name 'local' is not defined"
     ]
    }
   ],
   "source": [
    "glob = 'global'\n",
    "def functionTest():\n",
    "    loc = 'local'\n",
    "    return loc\n",
    "\n",
    "def functionTestA():\n",
    "    local - functionTest()\n",
    "    print(local, glob)\n",
    "functionTest()\n",
    "functionTestA()"
   ]
  },
  {
   "cell_type": "code",
   "execution_count": 10,
   "metadata": {},
   "outputs": [
    {
     "name": "stdout",
     "output_type": "stream",
     "text": [
      "('Anjas',)\n"
     ]
    }
   ],
   "source": [
    "def generateNames(*names):\n",
    "    print(names)\n",
    "generateNames('Anjas')"
   ]
  },
  {
   "cell_type": "code",
   "execution_count": 13,
   "metadata": {},
   "outputs": [
    {
     "name": "stdout",
     "output_type": "stream",
     "text": [
      "Anjas\n"
     ]
    }
   ],
   "source": [
    "def generateNames(*names):\n",
    "    return names\n",
    "print(generateNames('Anjas', 'Mardi', 'Niko') [0])"
   ]
  },
  {
   "cell_type": "code",
   "execution_count": 15,
   "metadata": {},
   "outputs": [
    {
     "name": "stdout",
     "output_type": "stream",
     "text": [
      "('Anjas', 'Mardi', 'Niko')\n"
     ]
    }
   ],
   "source": [
    "def generateNames(*names):\n",
    "    print (names)\n",
    "generateNames('Anjas', 'Mardi', 'Niko')"
   ]
  },
  {
   "cell_type": "code",
   "execution_count": null,
   "metadata": {},
   "outputs": [],
   "source": [
    "def generateNames(**names):\n",
    "    print (names)\n",
    "generateNames({'name': 'Anjas'"
   ]
  }
 ],
 "metadata": {
  "kernelspec": {
   "display_name": "Python 3",
   "language": "python",
   "name": "python3"
  },
  "language_info": {
   "codemirror_mode": {
    "name": "ipython",
    "version": 3
   },
   "file_extension": ".py",
   "mimetype": "text/x-python",
   "name": "python",
   "nbconvert_exporter": "python",
   "pygments_lexer": "ipython3",
   "version": "3.11.2"
  },
  "orig_nbformat": 4
 },
 "nbformat": 4,
 "nbformat_minor": 2
}
