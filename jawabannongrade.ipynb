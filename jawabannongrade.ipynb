{
 "cells": [
  {
   "cell_type": "code",
   "execution_count": 24,
   "metadata": {},
   "outputs": [
    {
     "name": "stdout",
     "output_type": "stream",
     "text": [
      "2\n",
      "8\n"
     ]
    }
   ],
   "source": [
    "#TASK 1\n",
    "# nomor 1\n",
    "def number_of_word(sentence):\n",
    "    x = sentence.split()  \n",
    "    return len(x)\n",
    "input_sentence = 'Hello World!'\n",
    "output = number_of_word(sentence = 'Hello World!')\n",
    "print(output)\n",
    "# nomor 2\n",
    "def number_of_word(sentence):\n",
    "    x = sentence.split()  \n",
    "    return len(x)\n",
    "output = number_of_word(sentence='Once Upon a Time in a faraway land')\n",
    "print(output) "
   ]
  },
  {
   "cell_type": "code",
   "execution_count": 21,
   "metadata": {},
   "outputs": [
    {
     "name": "stdout",
     "output_type": "stream",
     "text": [
      "[5, 10, 15, 20]\n",
      "[10, 20, 30, 40, 50]\n"
     ]
    }
   ],
   "source": [
    "#TASK 2\n",
    "# nomor 1\n",
    "def find_multiples(start_range, end_range, multiple):\n",
    "    multiples_list = []\n",
    "    \n",
    "    for number in range(start_range, end_range + 1):\n",
    "        if number % multiple == 0:\n",
    "            multiples_list.append(number)\n",
    "    \n",
    "    return multiples_list\n",
    "output = find_multiples(start_range= 1, end_range= 20, multiple= 5)\n",
    "print(output)\n",
    "# nomor 2\n",
    "def find_multiples(start_range, end_range, multiple):\n",
    "    multiple_list = []\n",
    "    for number in range(start_range, end_range + 1):\n",
    "        if number % multiple == 0:\n",
    "            multiple_list.append(number)\n",
    "    \n",
    "    return multiple_list\n",
    "output = find_multiples(start_range= 1, end_range= 50, multiple= 10)\n",
    "print(output)\n"
   ]
  },
  {
   "cell_type": "code",
   "execution_count": 34,
   "metadata": {},
   "outputs": [
    {
     "name": "stdout",
     "output_type": "stream",
     "text": [
      "{'Adam': 2.5, 'Faiz': 4.0}\n"
     ]
    },
    {
     "ename": "NameError",
     "evalue": "name 'results' is not defined",
     "output_type": "error",
     "traceback": [
      "\u001b[1;31m---------------------------------------------------------------------------\u001b[0m",
      "\u001b[1;31mNameError\u001b[0m                                 Traceback (most recent call last)",
      "Cell \u001b[1;32mIn[34], line 77\u001b[0m\n\u001b[0;32m     74\u001b[0m             results[student] \u001b[39m=\u001b[39m gpa\n\u001b[0;32m     76\u001b[0m     \u001b[39mreturn\u001b[39;00m results\n\u001b[1;32m---> 77\u001b[0m \u001b[39minput\u001b[39m \u001b[39m=\u001b[39m Grade_Converter(convert_to\u001b[39m=\u001b[39;49m\u001b[39m'\u001b[39;49m\u001b[39mletter_grade\u001b[39;49m\u001b[39m'\u001b[39;49m, Albert\u001b[39m=\u001b[39;49m\u001b[39m90\u001b[39;49m, Dwi\u001b[39m=\u001b[39;49m\u001b[39m82\u001b[39;49m, Syahdan\u001b[39m=\u001b[39;49m\u001b[39m58\u001b[39;49m, Veronica\u001b[39m=\u001b[39;49m\u001b[39m84\u001b[39;49m)\n\u001b[0;32m     78\u001b[0m \u001b[39mprint\u001b[39m(\u001b[39minput\u001b[39m)\n",
      "Cell \u001b[1;32mIn[34], line 61\u001b[0m, in \u001b[0;36mGrade_Converter\u001b[1;34m(convert_to, **students)\u001b[0m\n\u001b[0;32m     59\u001b[0m \u001b[39mif\u001b[39;00m convert_to \u001b[39m==\u001b[39m \u001b[39m'\u001b[39m\u001b[39mletter_grade\u001b[39m\u001b[39m'\u001b[39m:\n\u001b[0;32m     60\u001b[0m     \u001b[39mif\u001b[39;00m score \u001b[39m>\u001b[39m\u001b[39m=\u001b[39m \u001b[39m85\u001b[39m:\n\u001b[1;32m---> 61\u001b[0m         results[student] \u001b[39m=\u001b[39m \u001b[39m'\u001b[39m\u001b[39mA\u001b[39m\u001b[39m'\u001b[39m\n\u001b[0;32m     62\u001b[0m     \u001b[39melif\u001b[39;00m score \u001b[39m>\u001b[39m\u001b[39m=\u001b[39m \u001b[39m70\u001b[39m:\n\u001b[0;32m     63\u001b[0m         results[student] \u001b[39m=\u001b[39m \u001b[39m'\u001b[39m\u001b[39mB\u001b[39m\u001b[39m'\u001b[39m\n",
      "\u001b[1;31mNameError\u001b[0m: name 'results' is not defined"
     ]
    }
   ],
   "source": [
    "#TASK 3\n",
    "# nomor 1\n",
    "def Grade_Converter(convert_to, **students):\n",
    "    def hitung_gpa(score):\n",
    "        if score >= 85:\n",
    "            return 4.0\n",
    "        elif score >= 70:\n",
    "            return 3.0\n",
    "        elif score >= 60:\n",
    "            return 2.5\n",
    "        elif score >= 50:\n",
    "            return 2.0\n",
    "        elif score >= 40:\n",
    "            return 1.5\n",
    "        else:\n",
    "            return 1.0\n",
    "    \n",
    "    results = {}\n",
    "    for student, score in students.items():\n",
    "        if convert_to == 'letter_grade':\n",
    "            if score >= 85:\n",
    "                results[student] = 'A'\n",
    "            elif score >= 70:\n",
    "                results[student] = 'B'\n",
    "            elif score >= 60:\n",
    "                results[student] = 'C'\n",
    "            elif score >= 50:\n",
    "                results[student] = 'D'\n",
    "            elif score >= 40:\n",
    "                results[student] = 'E'\n",
    "            else:\n",
    "                results[student] = 'F'\n",
    "        elif convert_to == 'gpa':\n",
    "            gpa = hitung_gpa(score)\n",
    "            results[student] = gpa\n",
    "    \n",
    "    return results\n",
    "\n",
    "input = Grade_Converter(convert_to='gpa', Adam=62, Faiz=91)\n",
    "print(input)\n",
    "\n",
    "#nomor 2\n",
    "def Grade_Converter(convert_to, **students):\n",
    "    def hitung_gpa(score):\n",
    "        if score >= 85:\n",
    "            return 4.0\n",
    "        elif score >= 70:\n",
    "            return 3.0\n",
    "        elif score >= 60:\n",
    "            return 2.5\n",
    "        elif score >= 50:\n",
    "            return 2.0\n",
    "        elif score >= 40:\n",
    "            return 1.5\n",
    "        else:\n",
    "            return 1.0\n",
    "        results = {}\n",
    "    for student, score in students.items():\n",
    "        if convert_to == 'letter_grade':\n",
    "            if score >= 85:\n",
    "                results[student] = 'A'\n",
    "            elif score >= 70:\n",
    "                results[student] = 'B'\n",
    "            elif score >= 60:\n",
    "                results[student] = 'C'\n",
    "            elif score >= 50:\n",
    "                results[student] = 'D'\n",
    "            elif score >= 40:\n",
    "                results[student] = 'E'\n",
    "            else:\n",
    "                results[student] = 'F'\n",
    "        elif convert_to == 'gpa':\n",
    "            gpa = hitung_gpa(score)\n",
    "            results[student] = gpa\n",
    "    \n",
    "    return results\n",
    "input = Grade_Converter(convert_to='letter_grade', Albert=90, Dwi=82, Syahdan=58, Veronica=84)\n",
    "print(input)\n",
    "\n",
    "\n"
   ]
  },
  {
   "cell_type": "code",
   "execution_count": 30,
   "metadata": {},
   "outputs": [
    {
     "name": "stdout",
     "output_type": "stream",
     "text": [
      "0\n",
      "3\n",
      "55\n"
     ]
    }
   ],
   "source": [
    "#TASK 4\n",
    "# nomor 1\n",
    "def my_function(n):\n",
    "    if n == 0:\n",
    "        return 0\n",
    "    elif n == 1:\n",
    "        return 1\n",
    "    else:\n",
    "        fibonacci_sequence = [0, 1]\n",
    "        for i in range(2, n + 1):\n",
    "            next_value = fibonacci_sequence[i - 1] + fibonacci_sequence[i - 2]\n",
    "            fibpnacci_sequence.append(next_value)\n",
    "        return fibonacci_sequence[n]\n",
    "input = my_function(n=0)\n",
    "print(input)\n",
    "# nomor 2\n",
    "def my_function(n):\n",
    "    if n == 0:\n",
    "        return 0\n",
    "    elif n == 1:\n",
    "        return 1\n",
    "    else:\n",
    "        fibo_sequence = [0, 1]\n",
    "        for i in range(2, n + 1):\n",
    "            next_value = fibo_sequence[i - 1] + fibo_sequence[i - 2]\n",
    "            fibo_sequence.append(next_value)\n",
    "        return fibo_sequence[n]\n",
    "input = my_function(n=4)\n",
    "print(input)\n",
    "# nomor 3\n",
    "def my_function(n):\n",
    "    if n == 0:\n",
    "        return 0\n",
    "    elif n == 1:\n",
    "        return 1\n",
    "    else:\n",
    "        fib_sequence = [0, 1]\n",
    "        for i in range(2, n + 1):\n",
    "            next_value = fib_sequence[i - 1] + fib_sequence[i - 2]\n",
    "            fib_sequence.append(next_value)\n",
    "        return fib_sequence[n]\n",
    "input = my_function(n=10)\n",
    "print(input)\n"
   ]
  },
  {
   "cell_type": "code",
   "execution_count": 12,
   "metadata": {},
   "outputs": [
    {
     "ename": "SyntaxError",
     "evalue": "invalid syntax (3170091072.py, line 1)",
     "output_type": "error",
     "traceback": [
      "\u001b[1;36m  Cell \u001b[1;32mIn[12], line 1\u001b[1;36m\u001b[0m\n\u001b[1;33m    def number_of_word(sentence.split()):\u001b[0m\n\u001b[1;37m                               ^\u001b[0m\n\u001b[1;31mSyntaxError\u001b[0m\u001b[1;31m:\u001b[0m invalid syntax\n"
     ]
    }
   ],
   "source": [
    "def number_of_word(sentence.split()):\n",
    "    return sentence.split()\n",
    "input_sentence = 'Hello World!'\n",
    "output = number_of_word(sentence=input_sentence)\n",
    "print(output)"
   ]
  },
  {
   "cell_type": "code",
   "execution_count": 23,
   "metadata": {},
   "outputs": [
    {
     "name": "stdout",
     "output_type": "stream",
     "text": [
      "0\n",
      "1\n",
      "2\n",
      "3\n",
      "4\n",
      "5\n",
      "6\n",
      "7\n",
      "8\n",
      "9\n",
      "10\n",
      "11\n",
      "12\n",
      "13\n",
      "14\n",
      "15\n",
      "16\n",
      "17\n",
      "18\n",
      "19\n",
      "20\n"
     ]
    }
   ],
   "source": [
    "list = range(0, 21)\n",
    "for i in list:\n",
    "    var1 = list[n+1]\n",
    "    var2 = list[1]\n",
    "    \n",
    "    print(i)"
   ]
  }
 ],
 "metadata": {
  "kernelspec": {
   "display_name": "Python 3",
   "language": "python",
   "name": "python3"
  },
  "language_info": {
   "codemirror_mode": {
    "name": "ipython",
    "version": 3
   },
   "file_extension": ".py",
   "mimetype": "text/x-python",
   "name": "python",
   "nbconvert_exporter": "python",
   "pygments_lexer": "ipython3",
   "version": "3.11.2"
  },
  "orig_nbformat": 4
 },
 "nbformat": 4,
 "nbformat_minor": 2
}
